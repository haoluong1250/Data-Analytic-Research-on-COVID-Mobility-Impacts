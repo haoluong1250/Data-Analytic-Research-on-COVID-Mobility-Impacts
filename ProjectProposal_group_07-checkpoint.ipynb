{
 "cells": [
  {
   "cell_type": "markdown",
   "metadata": {},
   "source": [
    "# COGS 108 - Final Project Proposal"
   ]
  },
  {
   "cell_type": "markdown",
   "metadata": {},
   "source": [
    "# Names\n",
    "\n",
    "- Hao Luong\n",
    "- Arjun Varshney\n",
    "- Mengming Luo\n",
    "- Joy Yue Lam\n",
    "- Yaotian Wu\n",
    "- Sina Radi"
   ]
  },
  {
   "cell_type": "markdown",
   "metadata": {},
   "source": [
    "# Research Question"
   ]
  },
  {
   "cell_type": "markdown",
   "metadata": {},
   "source": [
    "The question we aim to explore is:\n",
    "\n",
    "How did regional factors -- such as differences in income levels, education, and COVID relief -- impact mobility patterns in the Bay Area and the Central Valley during COVID-19?\n",
    "\n",
    "Sub-questions include: \n",
    "\n",
    "-  How did different income levels affect the mobility patterns of people in the Bay Area versus Central Valley?\n",
    "-  How did education levels in the Bay Area and the Central Valley affect their respective mobility patterns during COVID19?\n",
    "-  How did COVID relief impact mobility patterns in the Bay Area and Central Valley?\n",
    "-  How did COVID vaccination implementation affect the mobility in the Bay Area vs the Central Valley?\n",
    "-  Did the way COVID19 infection rates affect mobility in the Bay Area versus the Central Valley?\n",
    "\n"
   ]
  },
  {
   "cell_type": "markdown",
   "metadata": {},
   "source": [
    "# Background and Prior Work"
   ]
  },
  {
   "cell_type": "markdown",
   "metadata": {},
   "source": [
    "\n",
    "With the rise of remote work and social isolation, COVID-19 significantly changed individuals’ mobility patterns. We saw the rapid development of services such as grocery delivery, telecommunication, etc that enabled individuals to work and live from inside their homes. However, there exists a disparity in which populations have access to these services and populations who have no choice but to thrust themselves in the midst of the COVID outbreak. We hypothesize that these differences reflect in the mobility patterns between different regions during COVID-19, with “mobility patterns” defined as the number of visitors over time to locations under the categories of: Retail & Recreation, Grocery & Pharmacy, Parks, Transit Stations, Workplaces, and Residential Areas.\n",
    "\n",
    "The question we aim to explore is: during COVID-19, how did factors -- such as difference in income levels, education, and COVID relief -- impact mobility patterns in the Bay Area and Central Valley?\n",
    "\n",
    "We selected these two regions because of the vast disparity in demographics between the Bay Area and Central Valley. While the Bay Area features many high-income, white-collar tech workers, Central Valley is composed mainly of blue-collar workers, such as “grocers, farm workers and warehouse employees” [^mays2017]. These demographic differences significantly shape the mobility patterns of each group in their day-to-day lives, whether during COVID-19 or not.\n",
    "\n",
    "Extensive research has been done on the unequal impact of COVID-19 on different income brackets, with low-income workers bearing the greatest load of COVID cases and deaths [^masterson2023].\n",
    "\n",
    "![picture](https://drive.google.com/uc?export=view&id=1xGLqBHTn0v9c28n8Kj9GpKn7gjUSSusr)\n",
    "Figure. Graph illustrating number of COVID cases according to income. \n",
    "\n",
    "A myriad of factors amplify low-income communities’ vulnerabilities to COVID-19, including higher population density, decreased medical care, increased public transportation use, and more. Due to blue collar workers lacking the affordance of remote work, one contributing factor includes increased mobility. Previous studies ([^basselini2021], [^bonvini2022], [^jason2022], [Vega-Villalobos2022] ) have discovered that mobility significantly impacts the chances of COVID19 spread:  “We identified that a 1% increase in mobility yielded a 5.2 and a 2.9% increase in the risk of COVID-19 incidence and mortality, respectively. Mobility was estimated to contribute 8.5 and 3.8% to the variability in incidence and mortality, respectively“ [^Méndez-Lizárraga2022].  In particular, mobility to locations under the categories of retail and recreation and workplaces hold the strongest association with chances of COVID-19 incidence and death [^irini2021].\n",
    "\n",
    "**CITATIONS:**\n",
    "\n",
    "[^mays2017]: MAYS, M. (2021, January 17). Pandemic reveals tale of 2 Californias like never before. POLITICO. Retrieved July 13, 2023, from https://www.politico.com/news/2021/01/17/california-pandemic-inequality-459849?fbclid=IwAR190r6u7XezasdISj5tH2CnGNhkja0Ug78hA3J5i4I6VmeaNDlx7SZWy0s \n",
    "\n",
    "[^masterson2023]: Masterson, J. M., Luu, M., Dallas, K., Daskivich, L., Spiegel, B., & Daskivich, T. (2023, June 30). Disparities in COVID-19 Disease Incidence by Income and Vaccination Coverage — 81 Communities, Los Angeles, California, July 2020–September 2021. Morbidity and Mortality Weekly Report. Retrieved July 13, 2023, from https://www.cdc.gov/mmwr/volumes/72/wr/pdfs/mm7226a5-h.pdf?fbclid=IwAR0AMHPYDn8KCfqzxv9g5jumV_vdCbuzEyFnEEho2dYPOvl6asAFGy8KyI8\n",
    "\n",
    "[^basselini2021]: Basellini, U., Alburez-Gutierrez, D., Del Fava, E., Perrotta, D. V., Bonetti, M., Camarda, C. G., & Zagheni, E. (2021, June 1). Linking excess mortality to mobility data during the first wave of COVID-19 in England and Wales. SSM-Population Health. https://doi.org/10.1016/j.ssmph.2021.100799\n",
    "\n",
    "[^bonvini2022]: Bonvini, M., Kennedy, E. H., Ventura, V., & Wasserman, L. (2022). Causal inference for the effect of mobility on COVID-19 deaths. The Annals of Applied Statistics, 16(4). https://doi.org/10.1214/22-aoas1599 \n",
    "\n",
    "[^jason2022]: Jason, J. S., Bowser, D. M., Harker Roa, A., Contreras Ceballos, D. C., Muñoz, S., Sombrio, A. G., & Shepard, D. S. (2022). Impact of weekday and weekend mobility and public policies on COVID-19 incidence and deaths across 76 large municipalities in Colombia: statistical analysis and simulation. BMC Public Health, 22(1). https://doi.org/10.1186/s12889-022-14781-7\n",
    "\n",
    "[Vega-Villalobos2022]: Vega-Villalobos, A., Nelva Nely Almanza-Ortega, Kirvis Torres-Poveda, Joaquín Pérez-Ortega, & Barahona, I. (2022). Correlation between mobility in mass transport and mortality due to COVID-19: A comparison of Mexico City, New York, and Madrid from a data science perspective. Plos One, 17(3), e0264713–e0264713. https://doi.org/10.1371/journal.pone.0264713\n",
    "\n",
    "[^Méndez-Lizárraga2022]: Méndez-Lizárraga, C. A., Castañeda-Cediel, Ml., Delgado-Sánchez, G., Ferreira-Guerrero, E. E., Ferreyra-Reyes, L., Canizales-Quintero, S., Mongua-Rodríguez, N., Tellez-Vázquez, N., Jiménez-Corona, M. E., Bradford Vosburg, K., Bello-Chavolla, O. Y., & García-García, L. (2022). Evaluating the impact of mobility in COVID-19 incidence and mortality: A case study from four states of Mexico. Frontiers in Public Health, 10. https://doi.org/10.3389/fpubh.2022.877800\n",
    "\n",
    "[^irini2021]: Irini, F., Kia, A. N., Shannon, D., Jannusch, T., Murphy, F., & Sheehan, B. (2021). Associations between mobility patterns and COVID-19 deaths during the pandemic: A network structure and rank propagation modelling approach. Array, 11, 100075. https://doi.org/10.1016/j.array.2021.100075\n",
    "\n",
    "References should be relevant to the project, not randomly chosen vaguely related topics. If possible you should include a web link as demonstrated above.\n"
   ]
  },
  {
   "cell_type": "markdown",
   "metadata": {},
   "source": [
    "# Hypothesis\n"
   ]
  },
  {
   "cell_type": "markdown",
   "metadata": {},
   "source": [
    "The COVID-19 pandemic and factors -- such as income, education levels, COVID relief, vaccination patterns and infection rates -- may have led to decreased overall mobility among Bay Area residents, while the impact on Central Valley residents’ mobility varies based on sector, with some experiencing limitations or others facing disruptions.\n",
    "\n"
   ]
  },
  {
   "cell_type": "markdown",
   "metadata": {},
   "source": [
    "# Data"
   ]
  },
  {
   "cell_type": "markdown",
   "metadata": {},
   "source": [
    "The ideal dataset to answer our research question focuses on relevant COVID19 factors in the Bay Area and the Central Valleys with respect to how they affect mobility during COVID19. Ideally, our dataset should focus on the Bay Area and Central Valley’s household income, educational attainment, vaccination patterns, COVID relief packages, and quarantining mandates. Because the research question aims to analyze the Bay Area and the Central Valley, the datasets should focus on those locations. However, understanding that the Bay Area and the Central Valley are large geographical areas, the ideal datasets can discuss these locations on a general scale or on a more micro-scale such as on a county-level or a city-level. Beyond locations, the datasets of income, education, COVID relief allocation, vaccination patterns, and infection rates ultimately are collected from the behaviors of people affected. Because our datasets are sourced from state-level and county-level data, we expect to have thousands to tens of thousands of observations per dataset. Having too few observations or even having too many observations to work with can analyzing and data management difficult. Ideally, we want to have observations sampled that is manageable while remaining representative. Our data ideally shold be organized through analytic models such as decision trees, EDA, or a correlation map for example.\n",
    "\n",
    "- COVID Google Mobility Trends Visualizations [Link](https://ourworldindata.org/covid-google-mobility-trends)\n",
    "- Public transit ridership analysis during the covid-19 pandemic [Visualizations](https://www.medrxiv.org/content/10.1101/2020.10.25.20219105v1.full.pdf)\n",
    "- “Pandemic reveals tale of 2 California's like never before” California has long been a picture of inequality, but the pandemic has widened the gap in ways few could have imagined [Link](https://www.politico.com/news/2021/01/17/california-pandemic-inequality-459849)\n",
    "- Mobility dataset from apple, google, and Meta [Link](https://publichealth.jmir.org/2023/1/e44286)\n",
    "- Activity and people staying at home '[Link](https://www.bts.gov/daily-travel)'\n",
    "- Income & Education\n",
    "     - County-Level: Poverty estimates, Unemployment, Median household income, Educational attainment for adults age 25 and older, Population estimates [Link](https://www.ers.usda.gov/data-products/county-level-data-sets/county-level-data-sets-download-data/)\n",
    "- Covid Relief / Unemployment\n",
    "     - Unemployment Insurance Weekly Claims for Bay Area Counties[Link](https://catalog.data.gov/dataset/unemployment-insurance-weekly-claims-for-bay-area-counties)\n",
    "     - Pandemic Unemployment Assistance Activities (ETA-902P) [Link](https://catalog.data.gov/dataset/pandemic-unemployment-assistance-activities-eta-902p)\n",
    "     - Back-Up of Unemployment Claims in California per County [Link](https://edd.ca.gov/en/newsroom/facts-and-stats/dashboard/#CandSBreakoutData)\n",
    "- Infectious Rate / Transmission\n",
    "     - United States COVID-19 [County Level](https://catalog.data.gov/dataset/united-states-covid-19-county-level-of-community-transmission-as-originally-posted) of Community Transmission as Originally Posted\n",
    "     - United States COVID-19 County Level of Community Transmission [Historical](https://www.google.com/url?q=https://catalog.data.gov/dataset/united-states-covid-19-county-level-of-community-transmission-historical-changes&sa=D&source=docs&ust=1689384286212640&usg=AOvVaw3A8hgQQAye7wKUB3DEeagw) Changes\n",
    "- Vaccination / Telemedicine\n",
    "     - COVID-19 Vaccination and Case Trends by Age Group, United States [Central Valley](https://catalog.data.gov/dataset/covid-19-vaccination-and-case-trends-by-age-group-united-states-e81b4)\n",
    "     - Statewide COVID-19 Vaccines Administered By County [Link](https://data.ca.gov/dataset/covid-19-vaccine-progress-dashboard-data/resource/eef88868-0cfc-4655-8a5a-3d1af1d23498)\n",
    "     - Access and Use of Telemedicine During COVID-19\n"
   ]
  },
  {
   "cell_type": "markdown",
   "metadata": {},
   "source": [
    "# Ethics & Privacy"
   ]
  },
  {
   "cell_type": "markdown",
   "metadata": {},
   "source": [
    "We will be using links, and not storing all this data upon importing. This way we are handling public data, and do not need to worry about the safety implications of our research data storage.\n",
    "We will be considering the ethics and patterns of practiced at different workplaces, in order to not include data that is outlier. We will be looking at mostly fair data, unbiased regarding occupation and neighborhood.\n",
    "If there are biases, we will bring it up to the group, and see if such data needs to be omitted. Moreover, if there is any data that is discriminating towards a certain group, we will most likely not include that, and substitute it with more ethical data\n",
    "\n",
    "When examining COVID-19 mobility data across California counties, it's important to consider possible biases, privacy concerns, and usage restrictions. According to the Google Covid-19 mobility report, the researchers intended to leave out regions that do not have sufficient data which may lead to sampling bias. The data might not represent the entire population accurately, leading to biases in favor of certain groups or areas. \n",
    "\n",
    "To address regional and sampling bias, we will: \n",
    "\n",
    "- Be transparent about the limitations and biases that may exist in the data\n",
    "- Compare the available data from the included regions to identify any notable differences or patterns\n",
    "- Seek additional data from reliable sources that specifically cover the regions or areas with insufficient data\n",
    "- Collect additional information and evidence from the missing regions, if available. This can provide some understanding of the situation in those areas, even if quantitative data is lacking\n"
   ]
  },
  {
   "cell_type": "markdown",
   "metadata": {},
   "source": [
    "# Team Expectations "
   ]
  },
  {
   "cell_type": "markdown",
   "metadata": {},
   "source": [
    "\n",
    "For our group project, we have set some expectations for our team to ensure success. First and foremost, effective communication is vital. To facilitate this, we have created a Facebook Messenger group chat, enabling us to stay connected and updated on the project's progress. Prompt response to messages and regular updates are key. Secondly, collaboration and cooperation are crucial. We value each team member's input and will respect everyone's opinions to find the best solutions for our project tasks. Each member will be assigned an equal amount of work and will be responsible and accountable for their contributions, ensuring high-quality outcomes. Lastly, we are committed to continuous learning and growth, embracing new techniques and challenges throughout the project journey. By adhering to these expectations, we aim to successfully complete the project together. \n",
    "\n"
   ]
  },
  {
   "cell_type": "markdown",
   "metadata": {},
   "source": [
    "# Project Timeline Proposal"
   ]
  },
  {
   "cell_type": "markdown",
   "metadata": {},
   "source": [
    "Specify your team's project timeline. An example timeline has been provided. Changes the dates, times, names, and details to fit your group's plan.\n",
    "\n",
    "If you think you will need any special resources or training outside what we have covered in COGS 108 to solve your problem, then your proposal should state these clearly. For example, if you have selected a problem that involves implementing multiple neural networks, please state this so we can make sure you are on track for success and so we can point you to resources you will need to implement your project. Note that you are not required to use outside methods.\n",
    "\n",
    "\n",
    "\n",
    "| Meeting Date  | Meeting Time| Completed Before Meeting  | Discuss at Meeting |\n",
    "|---|---|---|---|\n",
    "| 7/11/23 - Tuesday  |  7pm | Setting up a common platform to communicate on  | Introductions, brainstorming, looking at past projects | \n",
    "| 7/12/23 - Wednesday  |  6:30pm |  Looking into past projects and writing our thoughts down(weaknesses, strengths etc.) | Finding new datasets, proposing project ideas, selecting one research area | \n",
    "| 7/13/23 - Thursday  |  7pm |  Doing additional research on the broad topic chosen, deciding key variables and finding more relevant datasets | Working on a rough draft of the proposal, refine research question , discuss the ethics and privacy concerns and find plausible solutions | \n",
    "| 7/14/23 - Friday  |  6pm |  Finalize the project proposal, and go over each section to ensure that it is of a good standard | Copy the project proposal into the python notebook and submit it | \n",
    "| 7/17 - Monday  |  6:30 pm |  Look into the different datasets finalized and understand them, making a clone of the github repository and starting to clean different datasets | Try to merge the different versions into one common version which works with all, make a preliminary list of the visualizations and comparisons in the EDA section | \n",
    "| 7/20 - Thursday  |  6:00pm |  Further clean the datasets and merge them for specific EDA graphs and subsections | Merge all of our versions and check if there is any further cleaning/wrangling left to do and submit it | \n",
    "| 7/23 - Sunday  | 7:00pm  | Work on different EDA subsections and visualizations  | Compare the different results from teammates and analyze these results and draw conclusions and see if more graphs and tables need to be made   |\n",
    "| 7/26 - Wednesday  | 7:00pm  | Finalize the EDA section and make more graphs | Edit the EDA section and submit it, discuss which machine learning models we want to use to model our data(inferential modeling, OLS regression, etc.)   |\n",
    "| 7/29 - Saturday  | 7:00pm  | Work on 1 or 2 machine learning models and using them to make predictions, and visualizations to better understand relationships  | Understand the relationships identified by the machine learning patterns, draw inferences and conclusions form them |\n",
    "| 7/31 - Monday  | 7:00pm  | Finalize the machine learning side and complete the analysis and look at different conclusions from that | Edit the whole project and make the finishing touches to the project, if there is any part which needs work then work on that |\n",
    "| 8/2 - Wednesday  | 7:00pm  | Finish the conclusion | Complete the project check-in and make the group video, complete the project survey and turn everything in |"
   ]
  },
  {
   "cell_type": "code",
   "execution_count": null,
   "metadata": {},
   "outputs": [],
   "source": []
  }
 ],
 "metadata": {
  "kernelspec": {
   "display_name": "Python 3 (ipykernel)",
   "language": "python",
   "name": "python3"
  },
  "language_info": {
   "codemirror_mode": {
    "name": "ipython",
    "version": 3
   },
   "file_extension": ".py",
   "mimetype": "text/x-python",
   "name": "python",
   "nbconvert_exporter": "python",
   "pygments_lexer": "ipython3",
   "version": "3.11.3"
  }
 },
 "nbformat": 4,
 "nbformat_minor": 2
}
